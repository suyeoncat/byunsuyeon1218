{
 "cells": [
  {
   "cell_type": "markdown",
   "id": "40c463a8",
   "metadata": {},
   "source": [
    "### LeetCode 225. Implement Stack using Queues"
   ]
  },
  {
   "cell_type": "code",
   "execution_count": null,
   "id": "6ea4ce01",
   "metadata": {},
   "outputs": [],
   "source": [
    "#1. LeetCode 225. Implement Stack using Queues \n",
    "from collections import deque\n",
    "\n",
    "class MyStack:\n",
    "    def __init__(self):\n",
    "        # 두 개의 큐를 준비-보조/메인\n",
    "        self.q1 = deque()\n",
    "        self.q2 = deque()\n",
    "\n",
    "    def push(self, x: int) -> None:\n",
    "        # 항상 새 원소를 보조 큐(q2)에 우선 삽입\n",
    "        self.q2.append(x) \n",
    "        \n",
    "        # 기존의 모든 원소들을 q1에서 꺼내 q2에 넣기\n",
    "        while self.q1:\n",
    "            self.q2.append(self.q1.popleft())\n",
    "        \n",
    "        # 큐 스왑\n",
    "        self.q1, self.q2 = self.q1, self.q2\n",
    "\n",
    "    def pop(self) -> int:\n",
    "        # q1의 맨 앞 꺼냄\n",
    "        return self.q1.popleft()\n",
    "\n",
    "    def top(self) -> int:\n",
    "        # q1의 맨 앞이 현재 top\n",
    "        return self.q1[0]\n",
    "\n",
    "    def empty(self) -> bool:\n",
    "        # q1이 비어있는지 확인\n",
    "        return not self.q1"
   ]
  },
  {
   "cell_type": "markdown",
   "id": "c1fee2c5",
   "metadata": {},
   "source": [
    "### LeetCode 232. Implement Queue using Stacks"
   ]
  },
  {
   "cell_type": "code",
   "execution_count": null,
   "id": "8ba43ba0",
   "metadata": {},
   "outputs": [],
   "source": [
    "#2. LeetCode 232. Implement Queue using Stacks \n",
    "class MyQueue:\n",
    "    def __init__(self):\n",
    "        # 스택 2개를 생성\n",
    "        self.in_stack = []\n",
    "        self.out_stack = []\n",
    "\n",
    "    def push(self, x: int) -> None:\n",
    "        # 새로운 값을 입력 스택에 그냥 넣기기\n",
    "        self.in_stack.append(x)\n",
    "\n",
    "    def pop(self) -> int:\n",
    "       \n",
    "        if not self.out_stack:\n",
    "            while self.in_stack:\n",
    "        \n",
    "        return self.out_stack.pop()\n",
    "\n",
    "    def peek(self) -> int:\n",
    "       \n",
    "        if not self.out_stack:\n",
    "            while self.in_stack:\n",
    "                self.out_stack.append(self.in_stack.pop())\n",
    "        return self.out_stack[-1]\n",
    "\n",
    "    def empty(self) -> bool:\n",
    "      \n",
    "        return not self.in_stack and not self.out_stack"
   ]
  },
  {
   "cell_type": "markdown",
   "id": "d667d685",
   "metadata": {},
   "source": [
    "### 큐 문제 풀이 1"
   ]
  },
  {
   "cell_type": "code",
   "execution_count": null,
   "id": "74ca70a1",
   "metadata": {},
   "outputs": [],
   "source": [
    "#큐 문제\n",
    "#1\n",
    "class ListQueue:\n",
    "    def __init__(self):\n",
    "        self.__queue = []\n",
    "\n",
    "    def enqueue(self, item):\n",
    "        self.__queue.append(item)\n",
    "\n",
    "    def dequeue(self):\n",
    "        if self.is_empty():\n",
    "            return None\n",
    "        return self.__queue.pop(0)\n",
    "\n",
    "    def front(self):\n",
    "        if self.is_empty():\n",
    "            return None\n",
    "        return self.__queue[0]\n",
    "\n",
    "    def is_empty(self) -> bool:\n",
    "        return not bool(self.__queue)\n",
    "\n",
    "    def dequeue_all(self):\n",
    "        self.__queue.clear()"
   ]
  },
  {
   "cell_type": "markdown",
   "id": "112fd1bd",
   "metadata": {},
   "source": [
    "### 큐 문제 풀이 2"
   ]
  },
  {
   "cell_type": "code",
   "execution_count": null,
   "id": "c9cd5d63",
   "metadata": {},
   "outputs": [],
   "source": [
    "#2\n",
    "def is_in_set(string: str) -> bool:\n",
    "    q = ListQueue()\n",
    "    index = 0\n",
    "    while string[index] != '$':\n",
    "        q.enqueue(string[index])\n",
    "        index += 1\n",
    "    index += 1\n",
    "    while index < len(string):\n",
    "        if q.is_empty() or q.dequeue() != string[index]:\n",
    "            return False\n",
    "        index += 1\n",
    "    return q.is_empty()"
   ]
  },
  {
   "cell_type": "markdown",
   "id": "fa6264d8",
   "metadata": {},
   "source": [
    "### 큐 문제 풀이 3"
   ]
  },
  {
   "cell_type": "code",
   "execution_count": null,
   "id": "e4d5e3c5",
   "metadata": {},
   "outputs": [],
   "source": [
    "#3\n",
    "def copy_linked_queue(a: LinkedQueue, b: LinkedQueue):\n",
    "    b.dequeue_all()\n",
    "    temp_queue = LinkedQueue()\n",
    "    while not a.is_empty():\n",
    "        item = a.dequeue()\n",
    "        temp_queue.enqueue(item)\n",
    "        b.enqueue(item)\n",
    "    while not temp_queue.is_empty():\n",
    "        a.enqueue(temp_queue.dequeue())"
   ]
  },
  {
   "cell_type": "markdown",
   "id": "bc82ab31",
   "metadata": {},
   "source": [
    "### 큐 문제 풀이 4"
   ]
  },
  {
   "cell_type": "code",
   "execution_count": null,
   "id": "cd76dc09",
   "metadata": {},
   "outputs": [],
   "source": [
    "#4\n",
    "def push(q1: LinkedQueue, q2: LinkedQueue, item):\n",
    "    q2.dequeue_all()\n",
    "    while not q1.is_empty():\n",
    "        q2.enqueue(q1.dequeue())\n",
    "    q1.enqueue(item)\n",
    "    while not q2.is_empty():\n",
    "        q1.enqueue(q2.dequeue())\n",
    "\n",
    "def pop(q1: LinkedQueue, q2: LinkedQueue):\n",
    "    q2.dequeue_all()\n",
    "    count = 0\n",
    "    while not q1.is_empty():\n",
    "        q2.enqueue(q1.dequeue())\n",
    "        count += 1\n",
    "    for _ in range(count - 1):\n",
    "        q1.enqueue(q2.dequeue())\n",
    "    return q2.dequeue()"
   ]
  },
  {
   "cell_type": "markdown",
   "id": "cb580687",
   "metadata": {},
   "source": [
    "### 큐 문제 풀이 5"
   ]
  },
  {
   "cell_type": "code",
   "execution_count": null,
   "id": "5492b7f5",
   "metadata": {},
   "outputs": [],
   "source": [
    "\n",
    "#5\n",
    "def enqueue(s1: LinkedStack, s2: LinkedStack, item):\n",
    "    s2.pop_all()\n",
    "    while not s1.is_empty():\n",
    "        s2.push(s1.pop())\n",
    "    s1.push(item)\n",
    "    while not s2.is_empty():\n",
    "        s1.push(s2.pop())\n",
    "\n",
    "def dequeue(s1: LinkedStack, s2: LinkedStack):\n",
    "    s2.pop_all()\n",
    "    while not s1.is_empty():\n",
    "        s2.push(s1.pop())\n",
    "    ret_item = s2.pop()\n",
    "    while not s2.is_empty():\n",
    "        s1.push(s2.pop())\n",
    "    return ret_item"
   ]
  },
  {
   "cell_type": "markdown",
   "id": "f3ba22aa",
   "metadata": {},
   "source": [
    "### 큐 시간 복잡도 정리"
   ]
  },
  {
   "cell_type": "code",
   "execution_count": null,
   "id": "aa178fee",
   "metadata": {},
   "outputs": [],
   "source": [
    "#6\n",
    "# Enqueue(): Θ(1)\n",
    "# Dequeue(): Θ(1)\n",
    "\n",
    "#7\n",
    "# Enqueue(): Θ(n)\n",
    "# Dequeue(): Θ(n)"
   ]
  },
  {
   "cell_type": "markdown",
   "id": "4089dd2c",
   "metadata": {},
   "source": [
    "### ListDeque 클래스 구현"
   ]
  },
  {
   "cell_type": "code",
   "execution_count": null,
   "id": "cf748129",
   "metadata": {},
   "outputs": [],
   "source": [
    "#8\n",
    "class ListDeque:\n",
    "    def __init__(self):\n",
    "        self.__queue = []\n",
    "\n",
    "    def enqueue(self, item):\n",
    "        self.__queue.append(item)\n",
    "\n",
    "    def dequeue(self):\n",
    "        return self.__queue.pop(0)\n",
    "\n",
    "    def push(self, item):\n",
    "        self.__queue.insert(0, item)\n",
    "\n",
    "    def pop(self):\n",
    "        return self.__queue.pop(len(self.__queue) - 1)\n",
    "\n",
    "    def front(self):\n",
    "        if self.is_empty():\n",
    "            return None\n",
    "        else:\n",
    "            return self.__queue[0]\n",
    "\n",
    "    def rear(self):\n",
    "        if self.is_empty():\n",
    "            return None\n",
    "        else:\n",
    "            return self.__queue[-1]\n",
    "\n",
    "    def is_empty(self):\n",
    "        return not bool(self.__queue)\n",
    "\n",
    "    def deque_all(self):\n",
    "        self.__queue.clear()\n",
    "\n",
    "    def print_deque(self):\n",
    "        print(\"Dequeue from front:\", end=' ')\n",
    "        for index in range(len(self.__queue)):\n",
    "            print(self.__queue[index], end=' ')\n",
    "        print()"
   ]
  }
 ],
 "metadata": {
  "language_info": {
   "name": "python"
  }
 },
 "nbformat": 4,
 "nbformat_minor": 5
}
